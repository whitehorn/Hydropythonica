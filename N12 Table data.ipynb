{
 "cells": [
  {
   "cell_type": "markdown",
   "metadata": {},
   "source": [
    "# N12 Табличные данные\n",
    "\n",
    "Автор: Шабанов Павел Александрович\n",
    "\n",
    "Email: pa.shabanov@gmail.com\n",
    "\n",
    "URL: [Заметки по программированию в науках о Земле](http://progeoru.blogspot.ru/)\n",
    "\n",
    "Дата последнего обновления: 18.03.2017\n",
    "\n",
    "### План\n",
    "\n",
    "1. Табличные данные\n",
    "    + обзор возможностей;\n",
    "    + массива numpy.ndarrays;\n",
    "    + изменения формы массива reshape;\n",
    "    + функции numpy для создания массивов;\n",
    "    \n",
    "2. Microsoft Excel (c) и python\n",
    "    + xlrd;\n",
    "    + xlwt\n",
    "        + Запись на разных Листах.\n",
    "\n",
    "### Цель: \n",
    "\n",
    "+ научиться работать с табличными данными, представленными форматам xls и xlsx."
   ]
  },
  {
   "cell_type": "markdown",
   "metadata": {},
   "source": [
    "## Табличные данные\n",
    "\n",
    "Одним из самых удобных и распространённых типов массивов является двумерный массив. Он может быть представлен на плоскости в виде упорядоченной коллекции данных, имеющих координаты по двум осям. Трёхмерный массив может быть представлен в виде совокупности двумерных массивов. Четырёхмерный массив и далее N-мерный массив - в виде иерархической структуры (древа). Но самым понятным и доступным является именно матричный тип массивов. Имея две координаты для каждого элемента (**arr[i, j]**) такой набор отражается на самом деле ТРЁХМЕРНЫЙ набор данных: x, y, value. \n",
    "\n",
    "Такой набор данных может быть визуализирован как в виде трёхмерного рисунка, так и плоской \"карты\", отрисованой с помощью изолиний либо \"псевдографики\".\n",
    "\n",
    "Двумерные массивы или матрицы - достаточно абстрактные типы данных. Представленные лишь некотороми данными они не содержат информации об осях. Матрица (40, 12) может быть просто набором псевдослучайных чисел, а может хранить месячные значения чего-либо (например, максимальную температуру воздуха) за 40 лет.\n",
    "\n",
    "Для совместного хранения метаинформации и данных двумерных массивов удобно использовать таблицы. Примером электронной таблицы являются файлы **MS Excel (c)** с расширениями **xls** и **xlsx**.\n",
    "\n",
    "## Microsoft Excel (c) & python\n",
    "\n",
    "В стандартную библиотек не входят модули для работы с форматами MS Excel. Однако есть широко известные модули **xlrd** и **xlwt**, которые включены в дистрибутив Anaconda от Continuum Analitics. Первый отвечает за чтение данных из файлов формата xls/xlsx, а второй - за запись данных в файлы MS Excel.\n",
    "\n",
    "Схема работы всех python-модулей при чтении данных из Excel выглядит примерно так:\n",
    "\n",
    "1. Нужно указать путь к excel-файлу;\n",
    "\n",
    "2. выбрать в открытом файле Лист (по умолчанию Sheet1);\n",
    "\n",
    "3. указать ячейки, которые необходимо передать в объект-контейнер.\n",
    "\n",
    "\n",
    "### xlrd\n",
    "\n",
    "Рассмотрим формат xls на примере данных сайта [Earth Policy Institute](http://www.earth-policy.org/data_center/C23).\n",
    "\n",
    "Файл \"book_tgt_climate_2.xlsx\" об индутриальных выбросах углекислого газ за 1990-2013 в формате XLS.\n",
    "\n",
    "Логика использования этого модуля состоит в последовательном переходе с одного уровня на другой, более низкий: \n",
    "\n",
    "> Лист -> Строка/Столбец -> Ячейка.\n"
   ]
  },
  {
   "cell_type": "code",
   "execution_count": 3,
   "metadata": {
    "collapsed": false
   },
   "outputs": [
    {
     "name": "stdout",
     "output_type": "stream",
     "text": [
      "<class 'xlrd.book.Book'>\n",
      "MS Excel sheets: [u'Emissions by Fuel']\n",
      "<type 'list'> 1\n",
      "<class 'xlrd.sheet.Sheet'>\n"
     ]
    }
   ],
   "source": [
    "# Открываем файл, создаём объект Книга и переходим на Лист\n",
    "\n",
    "import numpy as np\n",
    "import xlrd\n",
    "\n",
    "# I \n",
    "fileName = 'book_tgt_climate_2.xlsx' # имя и путь к файлу\n",
    "iPath = './dataset/dat12/{}'.format(fileName)\n",
    "wb = xlrd.open_workbook(iPath) # открываем файл и передаём его как объект Книга в wb\n",
    "print type(wb)\n",
    "\n",
    "# Методы sheet_names показывает список имён доступных для работы листов файла\n",
    "sheets = wb.sheet_names()\n",
    "print 'MS Excel sheets:', sheets\n",
    "print type(sheets), len(sheets)\n",
    "\n",
    "# II Передаём первый (и едиственный в данном случае) Лист как объект sh\n",
    "sh = wb.sheet_by_name(sheets[0])   # sh - объект Лист\n",
    "print type(sh)"
   ]
  },
  {
   "cell_type": "markdown",
   "metadata": {},
   "source": [
    "Таким образом, мы узнали, что в файле всего 1 нормальный лист с данными и перешли на этот лист для дальнейшей работы. Всего в файле два Листа, второй отдан под рисунок.\n",
    "\n",
    "Перейдём к столбцам и стокам, узнаем сколько их доступно. Для этого есть методы Листа **name**, **nrows** и **ncols**."
   ]
  },
  {
   "cell_type": "code",
   "execution_count": 4,
   "metadata": {
    "collapsed": false
   },
   "outputs": [
    {
     "name": "stdout",
     "output_type": "stream",
     "text": [
      "Sheet name: Emissions by Fuel\n",
      "Number of rows: 127 Number of cells in choosed column: 127\n",
      "Number of columns: 6 Number of cells in choosed row: 6\n"
     ]
    }
   ],
   "source": [
    "print 'Sheet name:',sh.name # выведем имя текущего листа\n",
    "print 'Number of rows:',sh.nrows, 'Number of cells in choosed column:',len(sh.col(0)) # число строк разными способами\n",
    "print 'Number of columns:', sh.ncols, 'Number of cells in choosed row:', len(sh.row(0)) # число столбцов разными способами"
   ]
  },
  {
   "cell_type": "code",
   "execution_count": 5,
   "metadata": {
    "collapsed": false,
    "scrolled": true
   },
   "outputs": [
    {
     "name": "stdout",
     "output_type": "stream",
     "text": [
      "<type 'list'>\n",
      "[u'', u'', u'Total', u'', u'', 534.0, 553.0, 566.0, 617.0, 624.0]\n",
      "Type of cell <class 'xlrd.sheet.Cell'>\n",
      "XL_CELL_TEXT\t1 (Unicode string): 1\n",
      "Cell value: Global Carbon Dioxide Emissions from Fossil Fuel Burning by Fuel Type, 1900-2013\n",
      "XL_CELL_NUMBER 2 (float): 2\n",
      "Cell value: 1900.0\n",
      "----------------------------------------\n"
     ]
    }
   ],
   "source": [
    "''' Передаём колонки в виде СПИСКОВ '''\n",
    "\n",
    "xtime = sh.col_values(0) # Важно передать именно values. Иначе* будет передан список из особого класса ячеек Cells\n",
    "cemis = sh.col_values(4) \n",
    "\n",
    "print type(cemis)\n",
    "print cemis[:10]\n",
    "\n",
    "# * ИНАЧЕ\n",
    "cell = sh.col(0)[0]\n",
    "print 'Type of cell', type(cell)\n",
    "print 'XL_CELL_TEXT\t1 (Unicode string):', cell.ctype\n",
    "print 'Cell value:', cell.value\n",
    "\n",
    "cell = sh.col(0)[5]\n",
    "print 'XL_CELL_NUMBER 2 (float):', cell.ctype\n",
    "print 'Cell value:', cell.value\n",
    "print '----------------------------------------'"
   ]
  },
  {
   "cell_type": "markdown",
   "metadata": {},
   "source": [
    "Мы перенесли информацию из первого (индекс 0) и второго (индекс 3) столбцов файла в списки. Но мы считали \"лишние ячейки\" - \"шапку\" и \"комментарии\". \n",
    "\n",
    "Считаем только числовую информацию **ЯВНО** указав диапазон необходимых нам строк."
   ]
  },
  {
   "cell_type": "code",
   "execution_count": 6,
   "metadata": {
    "collapsed": false
   },
   "outputs": [
    {
     "name": "stdout",
     "output_type": "stream",
     "text": [
      "0 <class 'xlrd.sheet.Cell'> text:u'Coal'\n",
      "1 <class 'xlrd.sheet.Cell'> text:u'Oil'\n",
      "2 <class 'xlrd.sheet.Cell'> text:u'Natural Gas'\n"
     ]
    }
   ],
   "source": [
    "row1 = 6\n",
    "row2 = 119\n",
    "xtime = sh.col_values(0, row1, row2)\n",
    "\n",
    "N = 3\n",
    "arr = np.zeros((len(xtime), N))\n",
    "labs = []\n",
    "for i in range(N):\n",
    "    arr[:, i] = sh.col_values(i + 1, row1, row2)\n",
    "    cell = sh.row(2)[i + 1]   # это не значение, а ОБЪЕКТ Ячейка\n",
    "    print i, type(cell), cell\n",
    "    labs.append(cell.value)  # выбираем из объекта Ячейка значение (строка здесь)"
   ]
  },
  {
   "cell_type": "code",
   "execution_count": 11,
   "metadata": {
    "collapsed": false,
    "scrolled": true
   },
   "outputs": [],
   "source": [
    "import os\n",
    "import matplotlib.pyplot as plt\n",
    "\n",
    "cwd = os.getcwd()\n",
    "\n",
    "lstyles = ['solid', 'dashed', 'solid']\n",
    "colors = ['k', 'k', 'grey']\n",
    "title = 'Global Carbon Dioxide Emissions from Fossil Fuel\\n Burning by Fuel Type, 1900-2013'\n",
    "\n",
    "fig = plt.figure(figsize=(8, 6))\n",
    "ax = fig.add_subplot(111)\n",
    "for j in range(N):\n",
    "    ax.plot(xtime, arr[:, j], color=colors[j], label=labs[j], ls=lstyles[j])\n",
    "ax.set_xlabel('Source: EPI from BP; CDIAC')\n",
    "ax.set_ylabel('Million Tons of Carbon')\n",
    "ax.set_title(title)\n",
    "ax.grid(axis='y', color='k', linestyle='-', linewidth=0.5)\n",
    "\n",
    "ax.set_xlim(1900, 2020)\n",
    "ax.set_yticks(range(0, 5000, 500))\n",
    "ax.legend(loc=2)\n",
    "\n",
    "outPath = './pics/L12/'\n",
    "\n",
    "if not os.path.exists(outPath):\n",
    "    os.makedirs(outPath)\n",
    "os.chdir(outPath)\n",
    "outFileName = '{}_{:}_{:}.png'.format(title[:31], int(xtime[0]\n",
    "fig.savefig(outFileName), int(xtime[-1])),\n",
    "            format='png', dpi=200, bbox_inches='tight')\n",
    "os.chdir(cwd)"
   ]
  },
  {
   "cell_type": "markdown",
   "metadata": {},
   "source": [
    "![caption](files/pics/L12/Global Carbon Dioxide Emissions_1901_2013.png)"
   ]
  },
  {
   "cell_type": "markdown",
   "metadata": {},
   "source": [
    "### xlwt\n",
    "\n",
    "Обратный для модуля xlrd - xlwt позволяет записать данные в excel-таблицу.\n",
    "\n",
    "Общая логика проста - для выбранного Листа в новом файле нужно указать номера (столбца/строки) ячеек и данные.\n",
    "\n",
    "Про модуль xlwt подробнее можно почитать на сайте [python-excel.org](http://www.python-excel.org/)."
   ]
  },
  {
   "cell_type": "code",
   "execution_count": 19,
   "metadata": {
    "collapsed": false
   },
   "outputs": [],
   "source": [
    "import os\n",
    "\n",
    "import numpy as np\n",
    "from xlwt import Workbook\n",
    "\n",
    "cwd = os.getcwd()\n",
    "outPath = './dataset/dat12/'\n",
    "\n",
    "x = np.arange(27).reshape((9,3))*10.\n",
    "\n",
    "# 1 Создаём экземпляр класса Workbook (типа файл-объект)\n",
    "os.chdir(outPath)\n",
    "book = Workbook()\n",
    "\n",
    "# 2 Добавляем новый Лист в созданный экземпляр Workbook с помощью метода add_sheet()\n",
    "sheet = book.add_sheet('Sheet 1')\n",
    "\n",
    "# 3 Функция enumerate возвращает номер итерации (индекс) и значения\n",
    "\n",
    "debug = False\n",
    "for row, array in enumerate(x):\n",
    "    for col, value in enumerate(array):\n",
    "        # 4 Записываем значения в ячейку, указывая номера её строки/столбца и значение\n",
    "        if debug:\n",
    "            print(row, col, value)\n",
    "            \n",
    "        sheet.write(row, col, value)   # запись значения value по индексам ячейки row, col\n",
    "\n",
    "# 5 Сохраняем с помощью метода save() сформированный файл\n",
    "book.save(\"test_wr_excel.xls\")\n",
    "os.chdir(cwd)"
   ]
  },
  {
   "cell_type": "markdown",
   "metadata": {},
   "source": [
    "#### Запись на разных Листах\n",
    "\n",
    "Если есть необходимость выписать матрицы на разные листы файла Excel, то можно сделать ещё один цикл по Листам. Например так, как это показано ниже.\n",
    "\n",
    "Стоит отметить, что если необходимо выписать просто столбец-вектор, а не матрицу, то нужно делать \"проверку на вектор\" (см. ниже)."
   ]
  },
  {
   "cell_type": "code",
   "execution_count": 18,
   "metadata": {
    "collapsed": true
   },
   "outputs": [],
   "source": [
    "import os\n",
    "import numpy as np\n",
    "from xlwt import Workbook\n",
    "\n",
    "cwd = os.getcwd()\n",
    "outPath = './dataset/dat12/'\n",
    "\n",
    "xx = np.arange(27).reshape((9,3))*10.\n",
    "yy = np.random.random(100).reshape((10,10))\n",
    "zz = np.ones(15)\n",
    "\n",
    "# Объединияем массивы в список xyz\n",
    "\n",
    "xyz = [xx, yy, zz]\n",
    "xyz_name = ['xx', 'yy', 'zz']\n",
    "\n",
    "os.chdir(outPath)\n",
    "book = Workbook()\n",
    "\n",
    "for i, x in enumerate(xyz):\n",
    "    s = xyz_name[i]\n",
    "    sheet = book.add_sheet(s)\n",
    "    for row, array in enumerate(x):\n",
    "        # Проверка на вектор. Если да, то\n",
    "        if np.size(array) == 1:\n",
    "            col = 0\n",
    "            sheet.write(row, col, array)\n",
    "        else:\n",
    "            for col, value in enumerate(array):\n",
    "                sheet.write(row, col, value)\n",
    "\n",
    "book.save(\"test_wr_excel3.xls\")\n",
    "os.chdir(cwd)"
   ]
  },
  {
   "cell_type": "markdown",
   "metadata": {},
   "source": [
    "Можно оформить данный код в виде функции, например, такой:"
   ]
  },
  {
   "cell_type": "code",
   "execution_count": 17,
   "metadata": {
    "collapsed": true
   },
   "outputs": [],
   "source": [
    "import os\n",
    "import numpy as np\n",
    "from xlwt import Workbook\n",
    "\n",
    "\n",
    "def wr_xls(x, name, debug=False):\n",
    "    '''\n",
    "    Saves matrix 'X' in 'name.xls' file\n",
    "\n",
    "    Parameters\n",
    "    ----------\n",
    "    x : (numpy.ndarray)\n",
    "        Input matrix (2D array)\n",
    "\n",
    "    name : (str)\n",
    "        The name of future xls file\n",
    "\n",
    "    debug: (bool), optional\n",
    "\n",
    "    Returns\n",
    "    -------\n",
    "    File : (xls)\n",
    "        Xls file with matrix values in it\n",
    "    '''\n",
    "\n",
    "    book = Workbook()\n",
    "    sheet = book.add_sheet('Sheet 1')\n",
    "\n",
    "    for row, array in enumerate(x):\n",
    "        if (debug):\n",
    "            print (row, array)\n",
    "        if(np.size(array) == 1):\n",
    "            col = 0\n",
    "            sheet.write(row, col, array)\n",
    "        else:\n",
    "            for col, value in enumerate(array):\n",
    "                sheet.write(row, col, value)\n",
    "\n",
    "    name = '{}.xls'.format(name)\n",
    "    book.save(name)\n",
    "\n",
    "outPath = './dataset/dat12/'\n",
    "cwd = os.getcwd()\n",
    "N = 20\n",
    "x = np.random.rand(N)\n",
    "\n",
    "os.chdir(outPath)\n",
    "wr_xls(x, 'test_rand_excel')\n",
    "os.chdir(cwd)"
   ]
  },
  {
   "cell_type": "code",
   "execution_count": null,
   "metadata": {
    "collapsed": true
   },
   "outputs": [],
   "source": []
  }
 ],
 "metadata": {
  "anaconda-cloud": {},
  "kernelspec": {
   "display_name": "Python [default]",
   "language": "python",
   "name": "python2"
  },
  "language_info": {
   "codemirror_mode": {
    "name": "ipython",
    "version": 2
   },
   "file_extension": ".py",
   "mimetype": "text/x-python",
   "name": "python",
   "nbconvert_exporter": "python",
   "pygments_lexer": "ipython2",
   "version": "2.7.13"
  }
 },
 "nbformat": 4,
 "nbformat_minor": 0
}
