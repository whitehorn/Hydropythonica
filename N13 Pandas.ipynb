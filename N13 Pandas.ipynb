{
 "cells": [
  {
   "cell_type": "markdown",
   "metadata": {},
   "source": [
    "# N13 Анализ данных. Pandas\n",
    "\n",
    "Автор: Шабанов Павел Александрович\n",
    "\n",
    "Email: pa.shabanov@gmail.com\n",
    "\n",
    "URL: [Заметки по программированию в науках о Земле](http://progeoru.blogspot.ru/)\n",
    "\n",
    "Дата последнего обновления: 23.03.2017\n",
    "\n",
    "### План\n",
    "\n",
    "1. Модуль pandas\n",
    "\n",
    "2. pandas DataFrame\n",
    "    + подписи осей таблицы DataFrame;\n",
    "    + индексация DataFrame.\n",
    "    \n",
    "3. Чтение данных с помощью pandas DataFrame\n",
    "    + pd.read_csv();\n",
    "    + pd.read_wfw()\n",
    "    + pd.read_excel()\n",
    "\n",
    "4. Запись данных с помощью pandas DataFrame\n",
    "    + Запись данных в текстовые файлы;\n",
    "    + Запись данных в файлы MS Excel;\n",
    "### Цель: \n",
    "\n",
    "+ получить базовые знания и навыки для работы с модулем анализа данных pandas.\n",
    "\n",
    "### Ссылки:\n",
    "\n",
    "+ [Официальный сайт проекта Pandas](http://pandas.pydata.org/)\n",
    "\n",
    "+ [Tutorials from pandas.pydata](http://pandas.pydata.org/pandas-docs/stable/tutorials.html);"
   ]
  },
  {
   "cell_type": "markdown",
   "metadata": {},
   "source": [
    "## Модуль Pandas\n",
    "\n",
    "[Источник](https://ru.wikipedia.org/wiki/Pandas)\n",
    "\n",
    "**Pandas** — библиотека на языке Python для обработки и анализа данных. \n",
    "\n",
    "Работа pandas с данными строится поверх библиотеки NumPy, являющейся инструментом более низкого уровня. Pandas предоставляет специальные структуры данных и операции для манипулирования числовыми таблицами и временными рядами. Название библиотеки происходит от эконометрического термина «панельные данные», используемого для описания многомерных структурированных наборов информации. Pandas распространяется под новой лицензией BSD.\n",
    "\n",
    "Несмотря на то, что Python в течение долгого времени успешно применяется для подготовки данных, его использование для анализа и моделирования оставалось затруднённым. Часто требуется выполнять часть задач при помощи инструментов, отражающих специфику предметной области, таких как язык R. **Pandas** восполняет описанный недостаток, позволяя полностью проводить все этапы анализа информации на Python.\n",
    "\n",
    "Сейчас в pandas реализована лишь малая часть возможностей моделирования, однако работа в данном направлении находится в приоритете. На данный момент разработчики рекомендуют обратить внимание на такие пакеты как **statsmodels** и **scikit-learn** (Машинное обучение на python).\n",
    "\n",
    "Де-факто стандарт импортирования pandas выглядит так:\n",
    "\n",
    "> import pandas as pd\n",
    "\n",
    "**df** очень часто используется в качестве имени переменной, хранящей ссылку на оюбъект pandas DataFrame.\n",
    "\n",
    "## DataFrame\n",
    "\n",
    "Центральным объектом библиотеки (модуля) pandas является объект **DataFrame**. Дословный перевод даёт \"блок данных\", но мне нравится термин **pandas-Таблица**.\n",
    "\n",
    "По сути DataFrame - это двумерный псевдомассив, где все строки и столбцы могут иметь нечисловую нумерацию. Т.е. вместо принципа индексирования массивов из модуля numpy по двум осям (*arr[i, j]*) pandas-Таблица предлагает дополнительный функционал в виде обращения к строкам/столбцам/элементам по ключам (как в словарях)."
   ]
  },
  {
   "cell_type": "code",
   "execution_count": 11,
   "metadata": {
    "collapsed": false
   },
   "outputs": [
    {
     "name": "stdout",
     "output_type": "stream",
     "text": [
      "<class 'pandas.core.frame.DataFrame'>\n",
      "RangeIndex: 20 entries, 0 to 19\n",
      "Data columns (total 14 columns):\n",
      "0     20 non-null float64\n",
      "1     20 non-null float64\n",
      "2     20 non-null float64\n",
      "3     20 non-null float64\n",
      "4     20 non-null float64\n",
      "5     20 non-null float64\n",
      "6     20 non-null float64\n",
      "7     20 non-null float64\n",
      "8     20 non-null float64\n",
      "9     20 non-null float64\n",
      "10    20 non-null float64\n",
      "11    20 non-null float64\n",
      "12    20 non-null float64\n",
      "13    20 non-null float64\n",
      "dtypes: float64(14)\n",
      "memory usage: 2.3 KB\n",
      "None\n"
     ]
    }
   ],
   "source": [
    "import numpy as np\n",
    "import pandas as pd\n",
    "\n",
    "shape1 = (20, 14)\n",
    "arr = np.random.random(shape1)\n",
    "\n",
    "# Создание dataFrame на основе существующего массива\n",
    "df = pd.DataFrame(arr)   # преобразование массива arr к dataFrame\n",
    "\n",
    "print df.info()"
   ]
  },
  {
   "cell_type": "markdown",
   "metadata": {},
   "source": [
    "### Подписи осей таблицы DataFrame\n",
    "\n",
    "**DataFrame** - это всегда ДВУМЕРНЫЙ псевдомассив. Почему псевдо? Потому что массив содержит только данные одного типа, а DataFrame может содержать данные разных типов по строкам/столбцам.\n",
    "\n",
    "У объекта DataFrame (df) есть атрибуты, хранящие инфорамцию об именовании строк и столбцов:\n",
    "\n",
    "+ **df.index** - это последовательность уникальных значений для строк;\n",
    "\n",
    "+ **df.columns** -  это последовательность уникальных значений для столбцов.\n",
    "\n",
    "Именовать или переименовать подписи строк/столбцов (row labels/column labels) можно либо при создании DataFrame, либо после, используя методы."
   ]
  },
  {
   "cell_type": "code",
   "execution_count": 25,
   "metadata": {
    "collapsed": false
   },
   "outputs": [
    {
     "name": "stdout",
     "output_type": "stream",
     "text": [
      "         10        20        30\n",
      "a  0.193243  0.449483  0.527647\n",
      "b  0.598115  0.485275  0.436184\n",
      "c  0.910407  0.004737  0.277489\n",
      "d  0.065928  0.212776  0.950568\n",
      "e  0.033037  0.480585  0.280643\n",
      "***********************************\n",
      "Index([u'a', u'b', u'c', u'd', u'e'], dtype='object')\n",
      "Int64Index([10, 20, 30], dtype='int64')\n"
     ]
    }
   ],
   "source": [
    "import numpy as np\n",
    "import pandas as pd\n",
    "\n",
    "shape1 = (5, 3)\n",
    "arr = np.random.random(shape1)\n",
    "xlabels = ['a', 'b', 'c', 'd', 'e']   # \"строковые\" подписи строк DataFrame\n",
    "\n",
    "df = pd.DataFrame(arr, \n",
    "                  index=xlabels, columns=range(10, 40, 10))   # x числовые подписи столбцов DataFrame\n",
    "\n",
    "print df\n",
    "print '*'*35\n",
    "print df.index\n",
    "print df.columns"
   ]
  },
  {
   "cell_type": "markdown",
   "metadata": {},
   "source": [
    "**Заменить** подписи строк/стобцов DataFrame можно простым присваиванием атрибутам index и columns."
   ]
  },
  {
   "cell_type": "code",
   "execution_count": 26,
   "metadata": {
    "collapsed": false
   },
   "outputs": [
    {
     "name": "stdout",
     "output_type": "stream",
     "text": [
      "Before\n",
      "Index([u'a', u'b', u'c', u'd', u'e'], dtype='object')\n",
      "Int64Index([10, 20, 30], dtype='int64')\n",
      "After\n",
      "Int64Index([-5, -4, -3, -2, -1], dtype='int64')\n",
      "Index([u'A', u'B', u'C'], dtype='object')\n",
      "           A         B         C\n",
      "-5  0.193243  0.449483  0.527647\n",
      "-4  0.598115  0.485275  0.436184\n",
      "-3  0.910407  0.004737  0.277489\n",
      "-2  0.065928  0.212776  0.950568\n",
      "-1  0.033037  0.480585  0.280643\n"
     ]
    }
   ],
   "source": [
    "print 'Before'\n",
    "print df.index\n",
    "print df.columns\n",
    "\n",
    "df.index = range(-5, 0, 1)\n",
    "df.columns = ['A', 'B', 'C']\n",
    "\n",
    "print 'After'\n",
    "print df.index\n",
    "print df.columns\n",
    "print df"
   ]
  },
  {
   "cell_type": "markdown",
   "metadata": {},
   "source": [
    "### Индексация DataFrame\n",
    "\n",
    "Обращаться к элементам и осям pandas-таблицы можно по-разному. Существует аж 3 способа это сделать:\n",
    "\n",
    "1. Через индексы как в numpy-массивах. Синтаксис здесь отличается - необходимо использовать метод **iloc**\n",
    "\n",
    "2. Через подписи как в словарях. Для каждой оси - свой ключ. Для вызова этого метода необходимо использовать **loc**\n",
    "\n",
    "3. И через индексы и через подписи (смешанный тип). Обращение к одной из осей идёт по ключу, а к другой - через индекс. Для вызова этого метода необходимо использовать **ix**"
   ]
  },
  {
   "cell_type": "code",
   "execution_count": 27,
   "metadata": {
    "collapsed": false
   },
   "outputs": [
    {
     "name": "stdout",
     "output_type": "stream",
     "text": [
      "\n",
      "=============iloc=============\n",
      "\n",
      "I      38.516166\n",
      "II     56.773774\n",
      "III    48.646303\n",
      "Name: b, dtype: float64\n",
      "140.215212856\n",
      "\n",
      "=============loc==============\n",
      "\n",
      "a    62.339347\n",
      "b    56.773774\n",
      "c    70.821103\n",
      "d    62.456930\n",
      "e    16.031861\n",
      "Name: II, dtype: float64\n",
      "62.4569303208\n",
      "\n",
      "==============ix==============\n",
      "\n",
      "a    62.339347\n",
      "b    56.773774\n",
      "c    70.821103\n",
      "d    62.456930\n",
      "e    16.031861\n",
      "Name: II, dtype: float64\n",
      "112.307090541\n",
      "88.2702966966\n"
     ]
    }
   ],
   "source": [
    "# Типы индексаций в pandas\n",
    "\n",
    "import numpy as np\n",
    "import pandas as pd\n",
    "\n",
    "shape1 = (5, 3)\n",
    "arr = np.random.random(shape1)*150.\n",
    "xlabels = ['a', 'b', 'c', 'd', 'e']   # \"строковые\" подписи строк DataFrame\n",
    "ylabels = ['I', 'II', 'III']\n",
    "df = pd.DataFrame(arr, index=xlabels, columns=ylabels)   # x числовые подписи столбцов DataFrame\n",
    "\n",
    "print '\\n{:=^30}\\n'.format('iloc')\n",
    "\n",
    "# iloc - Через индексацию\n",
    "print df.iloc[1, :]\n",
    "print df.iloc[2, 2]\n",
    "\n",
    "print '\\n{:=^30}\\n'.format('loc')\n",
    "\n",
    "# loc - Через подписи\n",
    "cols = df.columns[:]\n",
    "print df.loc[:, cols[1]]\n",
    "print df.loc['d', 'II']\n",
    "\n",
    "print '\\n{:=^30}\\n'.format('ix')\n",
    "\n",
    "# ix - смешанный тип\n",
    "cols = df.columns[:]\n",
    "inx = df.index[:]\n",
    "print df.ix[:, 1]\n",
    "print df.ix['a', 2]\n",
    "print df.ix[3, 'I']"
   ]
  },
  {
   "cell_type": "markdown",
   "metadata": {},
   "source": [
    "Несмотря на наличие подписей, таблица в любом случае продолжает поддерживать двумерную индексацию элементов. Просто она скрыта от пользователя. Индексация начинается от 0. Поддерживается обратная индексация через отрицательные индексы.\n",
    "\n",
    "Векторные срезы поддерживаются, они должны быть однотипными. Смешивать индексы и ключи при \"векторном срезании\" не разрешается."
   ]
  },
  {
   "cell_type": "code",
   "execution_count": 15,
   "metadata": {
    "collapsed": false
   },
   "outputs": [
    {
     "name": "stdout",
     "output_type": "stream",
     "text": [
      "            I          II        III\n",
      "b  147.118574   49.070428  56.800492\n",
      "c  114.554625   88.076476  55.433144\n",
      "d    8.456217  114.226673  76.609781\n",
      "            I          II        III\n",
      "b  147.118574   49.070428  56.800492\n",
      "c  114.554625   88.076476  55.433144\n",
      "d    8.456217  114.226673  76.609781\n",
      "            I          II        III\n",
      "b  147.118574   49.070428  56.800492\n",
      "c  114.554625   88.076476  55.433144\n",
      "d    8.456217  114.226673  76.609781\n",
      "\n",
      "Векоторные срезы\n",
      "\n",
      "            I         II        III\n",
      "a   15.619269   6.499394  53.007220\n",
      "c  114.554625  88.076476  55.433144\n",
      "e   52.458614  75.153235  68.268671\n",
      "            I        III\n",
      "a   15.619269  53.007220\n",
      "b  147.118574  56.800492\n",
      "e   52.458614  68.268671\n",
      "            I        III\n",
      "e   52.458614  68.268671\n",
      "c  114.554625  55.433144\n",
      "d    8.456217  76.609781\n"
     ]
    }
   ],
   "source": [
    "# Один результат разными методами\n",
    "\n",
    "print df.iloc[-4:-1, :]\n",
    "print df.ix[1:-1, :]\n",
    "print df.loc[['b', 'c','d'], :]\n",
    "\n",
    "# Векторные срезы\n",
    "print '\\n{:=^30}\\n'.format('Векоторные срезы')\n",
    "vecs1 = [0, 2, 4]\n",
    "print df.iloc[vecs1, :]\n",
    "\n",
    "vecs2 = ['a', 'b', 'e']\n",
    "vecs3 = ['I', 'III']\n",
    "print df.loc[vecs2, vecs3]\n",
    "\n",
    "vecs4 = [-1, -3, -2]\n",
    "vecs5 = ['I', 'III']\n",
    "print df.ix[vecs4, vecs5]"
   ]
  },
  {
   "cell_type": "markdown",
   "metadata": {},
   "source": [
    "Помимо вышеперечисленных способов, DataFrame поддерживает ещё и удобное обращение к столбцам. Это можно сделать через подпись столбца в квадратных скобках. Автоматически будут выбраны все строки из текущего DataFrame.\n",
    "\n",
    "Такой метод возвращает ещё один ключевой объект модуля pandas - **Series** или ряд (близко к Time Series). Это одномерная последоветльность, индексированная подписями строк и поддерживающая обычную числовую индексацию."
   ]
  },
  {
   "cell_type": "code",
   "execution_count": 16,
   "metadata": {
    "collapsed": false
   },
   "outputs": [
    {
     "name": "stdout",
     "output_type": "stream",
     "text": [
      "   E95  M10\n",
      "0    I    2\n",
      "1   II    7\n",
      "2    V   17\n",
      "3  III   12\n",
      "4   IV   17\n",
      "\n",
      "========pandas Series=========\n",
      "\n",
      "0     2\n",
      "1     7\n",
      "2    17\n",
      "3    12\n",
      "4    17\n",
      "Name: M10, dtype: int64\n",
      "<class 'pandas.core.series.Series'>\n"
     ]
    }
   ],
   "source": [
    "import pandas as pd\n",
    "\n",
    "dic = {'I':2, \"II\":7, 'III':12, \"IV\":17, 'V':17}\n",
    "df = pd.DataFrame(dic.items(), columns=['E95', 'M10'])\n",
    "\n",
    "print df\n",
    "print '\\n{:=^30}\\n'.format('pandas Series')\n",
    "\n",
    "ts = df['M10']\n",
    "print ts\n",
    "print type(ts)"
   ]
  },
  {
   "cell_type": "markdown",
   "metadata": {},
   "source": [
    "## Чтение данных с помощью pandas DataFrame\n",
    "\n",
    "### pd.read_csv()\n",
    "\n",
    "Pandas предоставляет наиболее широкие возможности для чтения текстовых файлов с числовой информацией.\n",
    "\n",
    "Вместо **numpy.genfromtxt()** здесь используется **pandas.read_csv()**. Объект, который возвращает эта функция, - либо DataFrame, либо одномерный вариант Series."
   ]
  },
  {
   "cell_type": "code",
   "execution_count": 17,
   "metadata": {
    "collapsed": false
   },
   "outputs": [
    {
     "name": "stdout",
     "output_type": "stream",
     "text": [
      "   YYYY-MM-DD  hh:mm   Original   Calculated   Flag\n",
      "0  1931-01-01  --:--     6570.0       6570.0   -999\n",
      "1  1931-01-02  --:--     6480.0       6480.0   -999\n",
      "2  1931-01-03  --:--     6320.0       6320.0   -999\n",
      "3  1931-01-04  --:--     5930.0       5930.0   -999\n",
      "4  1931-01-05  --:--     5750.0       5750.0   -999\n",
      "5  1931-01-06  --:--     5680.0       5680.0   -999\n",
      "6  1931-01-07  --:--     5530.0       5530.0   -999\n",
      "7  1931-01-08  --:--     5500.0       5500.0   -999\n",
      "8  1931-01-09  --:--     5530.0       5530.0   -999\n",
      "9  1931-01-10  --:--     5510.0       5510.0   -999\n",
      "Columns: Index([u'YYYY-MM-DD', u'hh:mm', u' Original', u' Calculated', u' Flag'], dtype='object')\n"
     ]
    },
    {
     "data": {
      "text/plain": [
       "<matplotlib.text.Text at 0xbc2b048>"
      ]
     },
     "execution_count": 17,
     "metadata": {},
     "output_type": "execute_result"
    },
    {
     "data": {
      "image/png": "[encoded data removed]",
      "text/plain": [
       "<matplotlib.figure.Figure at 0xc611588>"
      ]
     },
     "metadata": {},
     "output_type": "display_data"
    }
   ],
   "source": [
    "%matplotlib inline\n",
    "\n",
    "import os\n",
    "import pandas as pd\n",
    "\n",
    "cwd = os.getcwd()\n",
    "\n",
    "fileName = '6742900.day'   # Данные по Дунаю\n",
    "iPath = './dataset/dat6/{}'.format(fileName)\n",
    "\n",
    "df = pd.read_csv(iPath, skiprows=40, sep=';')\n",
    "print df.head(10)\n",
    "\n",
    "print 'Columns:', df.columns\n",
    "\n",
    "ts = df[' Original'][:]\n",
    "f = [pd.to_datetime(v) for v in df['YYYY-MM-DD']]\n",
    "ts.index = f[:]\n",
    "adf = ts.resample('A').mean()\n",
    "ax = adf.plot(grid=True)\n",
    "ax.set_xlabel('MEAN DAILY DISCHARGE')\n",
    "ax.set_ylabel('m**3/s')"
   ]
  },
  {
   "cell_type": "markdown",
   "metadata": {},
   "source": [
    "### pd.read_wfw()\n",
    "\n",
    "Для некоторых текстовых файлов, которые были созданы с т.н. фиксированной длиной записи, обычный метод сепарации данных через пробелы, табуляции или другие разделители (например, точку с запятой) может не сработать. \n",
    "\n",
    "Если данные \"слипаются\", когда между ними нет свободного места, то pandas предлагает другой метод - **pd.read_fwf()**."
   ]
  },
  {
   "cell_type": "code",
   "execution_count": 18,
   "metadata": {
    "collapsed": false
   },
   "outputs": [
    {
     "name": "stdout",
     "output_type": "stream",
     "text": [
      "      0  1   2      3    4        5       6       7\n",
      "0  1948  1   1  11.64  0.0   0.8330  6.6056 -1.3722\n",
      "1  1948  1   2   5.53  0.0   1.1864  6.5333  0.5944\n",
      "2  1948  1   3   6.64  0.0   1.1864  5.1667 -1.5500\n",
      "3  1948  1   4   6.45  0.0   1.1497  4.5556 -0.7556\n",
      "4  1948  1   5  32.45  0.0   1.0487  2.8778 -3.0389\n",
      "5  1948  1   6  44.98  0.0   2.1686  4.0556 -0.5333\n",
      "6  1948  1   7   8.73  0.0  10.4184  7.4667  0.8056\n",
      "7  1948  1   8   1.90  0.0   6.8844  6.1389 -0.9056\n",
      "8  1948  1   9   4.46  0.0   4.5207  2.7778 -4.6222\n",
      "9  1948  1  10   5.14  0.0   3.5110  3.2278 -3.9778\n"
     ]
    }
   ],
   "source": [
    "import pandas as pd\n",
    "\n",
    "widths = [4, 2, 2, 10, 10, 10, 10, 10]   #\n",
    "fileName = '14101500.dly'   # Данные MOPEX\n",
    "iPath = './dataset/dat6/{}'.format(fileName)\n",
    "wf = pd.read_fwf(iPath, widths=widths, header=None)\n",
    "print wf.head(10)"
   ]
  },
  {
   "cell_type": "markdown",
   "metadata": {},
   "source": [
    "### pd.read_excel()\n",
    "\n",
    "Таблицы MS Excel - это один из самых органичных форматов для агреграции их с помощью pandas DataFrame. Чтение файлов форматов xls/xlsx становится с pandas настоящим удовольствием - **pd.read_excel()**.\n",
    "\n"
   ]
  },
  {
   "cell_type": "code",
   "execution_count": 19,
   "metadata": {
    "collapsed": false
   },
   "outputs": [
    {
     "name": "stdout",
     "output_type": "stream",
     "text": [
      "   Year   Coal   Oil  Natural Gas  Total\n",
      "0  1900  515.0  16.0          3.0  534.0\n",
      "1  1901  531.0  18.0          4.0  553.0\n",
      "2  1902  543.0  19.0          4.0  566.0\n",
      "3  1903  593.0  20.0          4.0  617.0\n",
      "4  1904  597.0  23.0          4.0  624.0\n",
      "5  1905  636.0  23.0          5.0  664.0\n",
      "6  1906  680.0  23.0          5.0  708.0\n"
     ]
    }
   ],
   "source": [
    "import pandas as pd\n",
    "\n",
    "fileName = 'book_tgt_climate_2.xlsx'\n",
    "filePath = './dataset/dat6'\n",
    "iPath = '{}/{}'.format(filePath, fileName)\n",
    "\n",
    "# Определяем подписи для стобцов DataFrame\n",
    "cols = pd.read_excel(iPath, skiprows=2, usecols=[0, 1, 2, 3, 4], skip_footer=999)\n",
    "\n",
    "ex = pd.read_excel(iPath, skiprows=4, parse_cols='A:E', skip_footer=8,\n",
    "                   names=cols.columns)\n",
    "\n",
    "print ex.head(7)"
   ]
  },
  {
   "cell_type": "code",
   "execution_count": 20,
   "metadata": {
    "collapsed": false
   },
   "outputs": [
    {
     "name": "stdout",
     "output_type": "stream",
     "text": [
      "[u'Year' u'Coal' u'Oil' u'Natural Gas' u'Total']\n"
     ]
    }
   ],
   "source": [
    "cols = pd.read_excel(iPath, skiprows=2, usecols=[0, 1, 2, 3, 4], skip_footer=999)\n",
    "print cols.columns.values"
   ]
  },
  {
   "cell_type": "markdown",
   "metadata": {},
   "source": [
    "## Запись данных с помощью pandas DataFrame\n",
    "\n",
    "С pandas удобно не только считывать данные, но и записывать их в файлы! Функция сохранения здесь реализованан в виде методов DataFrame **to_csv** и **to_excel**.\n",
    "\n",
    "### df.to_csv()\n",
    "\n",
    "Запись в текстовый файл похожа на чтение данных: нужны имя выходоного файла и путь к нему, указать тип разделителя, определиться с header и index (подписями столбцов/строк). Обратите внимание на параметр **float_format**, который определяет представление чисел с плавающей запятой в файле (часто - число знаков после запятой).\n",
    "\n",
    "Если таблица имела подписи (не индексы), то по умолчанию они будут также записаны в выходной файл."
   ]
  },
  {
   "cell_type": "code",
   "execution_count": 21,
   "metadata": {
    "collapsed": false
   },
   "outputs": [
    {
     "name": "stdout",
     "output_type": "stream",
     "text": [
      "         0         1         2         3         4         5         6   \\\n",
      "0  0.406673  0.849191  0.969383  0.529111  0.996786  0.546646  0.174491   \n",
      "1  0.334295  0.226263  0.646008  0.592361  0.828576  0.937463  0.409783   \n",
      "2  0.274827  0.964028  0.743230  0.706992  0.560090  0.765529  0.337996   \n",
      "3  0.401926  0.532954  0.168215  0.481798  0.099418  0.950383  0.850380   \n",
      "4  0.262429  0.509651  0.114383  0.437847  0.855988  0.803929  0.801882   \n",
      "\n",
      "         7         8         9         10        11        12        13  \n",
      "0  0.160059  0.881592  0.062729  0.652720  0.057432  0.897954  0.556557  \n",
      "1  0.163789  0.859759  0.637650  0.328381  0.949236  0.503253  0.076027  \n",
      "2  0.999088  0.861208  0.989328  0.944619  0.059847  0.337351  0.189525  \n",
      "3  0.888814  0.985114  0.722403  0.848807  0.522381  0.654874  0.372816  \n",
      "4  0.836896  0.821271  0.033005  0.265382  0.154231  0.223672  0.980796  \n"
     ]
    },
    {
     "data": {
      "image/png": "[encoded data removed]",
      "text/plain": [
       "<matplotlib.figure.Figure at 0x4b6d7f0>"
      ]
     },
     "metadata": {},
     "output_type": "display_data"
    },
    {
     "name": "stdout",
     "output_type": "stream",
     "text": [
      "1965    0.450852\n",
      "1966    0.788986\n",
      "1967    0.905450\n",
      "1968    0.219924\n",
      "1969    0.014259\n",
      "Name: Ray, dtype: float64\n"
     ]
    },
    {
     "data": {
      "image/png": "[encoded data removed]",
      "text/plain": [
       "<matplotlib.figure.Figure at 0xc475ac8>"
      ]
     },
     "metadata": {},
     "output_type": "display_data"
    }
   ],
   "source": [
    "import datetime\n",
    "\n",
    "import numpy as np\n",
    "import pandas as pd\n",
    "import matplotlib.pyplot as plt\n",
    "\n",
    "now = datetime.datetime.now()\n",
    "\n",
    "fileName = 'df_random2arr_{}.txt'.format(now.strftime(\"%Y-%m-%d\"))\n",
    "filePath = './dataset/dat6'\n",
    "iPath = '{}/{}'.format(filePath, fileName)\n",
    "\n",
    "shape1 = (20, 14)\n",
    "arr = np.random.random(shape1)\n",
    "\n",
    "# Создание dataFrame на основе существующего массива\n",
    "df = pd.DataFrame(arr)   # преобразование массива arr к dataFrame\n",
    "print df.head(5) \n",
    "df.to_csv(iPath, sep=';', float_format='%.3f')\n",
    "\n",
    "plt.contourf(df)\n",
    "plt.show()\n",
    "\n",
    "ts = df[5]\n",
    "ts.name = 'Ray'\n",
    "ts.index = np.arange(len(ts)) + 1950 \n",
    "print ts.tail(5)\n",
    "fileName = 'ts_with_header_and_index.dat'\n",
    "ts.to_csv('{}/{}'.format(filePath, fileName),\n",
    "          sep=';', float_format='%.2f', header=True)\n",
    "\n",
    "ts.plot(grid=True)\n",
    "plt.show()"
   ]
  },
  {
   "cell_type": "markdown",
   "metadata": {},
   "source": [
    "### pd.to_excel()\n",
    "\n",
    "Аналогично и с форматами xls/xlsx. "
   ]
  },
  {
   "cell_type": "code",
   "execution_count": 22,
   "metadata": {
    "collapsed": false
   },
   "outputs": [
    {
     "name": "stdout",
     "output_type": "stream",
     "text": [
      "DatetimeIndex(['2017-01-01', '2017-01-02', '2017-01-03', '2017-01-04',\n",
      "               '2017-01-05', '2017-01-06', '2017-01-07', '2017-01-08',\n",
      "               '2017-01-09', '2017-01-10', '2017-01-11', '2017-01-12',\n",
      "               '2017-01-13', '2017-01-14', '2017-01-15', '2017-01-16',\n",
      "               '2017-01-17', '2017-01-18', '2017-01-19', '2017-01-20',\n",
      "               '2017-01-21', '2017-01-22', '2017-01-23', '2017-01-24',\n",
      "               '2017-01-25', '2017-01-26', '2017-01-27', '2017-01-28',\n",
      "               '2017-01-29', '2017-01-30', '2017-01-31'],\n",
      "              dtype='datetime64[ns]', freq='D')\n"
     ]
    },
    {
     "data": {
      "image/png": "[encoded data removed]",
      "text/plain": [
       "<matplotlib.figure.Figure at 0xc2d4048>"
      ]
     },
     "metadata": {},
     "output_type": "display_data"
    }
   ],
   "source": [
    "import numpy as np\n",
    "import pandas as pd\n",
    "\n",
    "import matplotlib.pyplot as plt\n",
    "\n",
    "shape1 = (31, 3)\n",
    "\n",
    "fileName = 'df_{}x{}.xlsx'.format(*shape1)\n",
    "filePath = './dataset/dat6'\n",
    "iPath = '{}/{}'.format(filePath, fileName)\n",
    "\n",
    "arr = np.random.random(shape1)\n",
    "\n",
    "box = ['dollar', 'euro', 'ruble']\n",
    "\n",
    "times = pd.date_range('2017-01-01', '2017-01-31', step='1d' )\n",
    "print times\n",
    "\n",
    "df = pd.DataFrame(arr, columns=box, index=times)\n",
    "\n",
    "df.to_excel(iPath, sheet_name='Money', float_format='%.2f',\n",
    "            header=True, index=True)\n",
    "\n",
    "ax = df.boxplot()\n",
    "plt.show()"
   ]
  },
  {
   "cell_type": "code",
   "execution_count": null,
   "metadata": {
    "collapsed": true
   },
   "outputs": [],
   "source": []
  }
 ],
 "metadata": {
  "anaconda-cloud": {},
  "kernelspec": {
   "display_name": "Python [default]",
   "language": "python",
   "name": "python2"
  },
  "language_info": {
   "codemirror_mode": {
    "name": "ipython",
    "version": 2
   },
   "file_extension": ".py",
   "mimetype": "text/x-python",
   "name": "python",
   "nbconvert_exporter": "python",
   "pygments_lexer": "ipython2",
   "version": "2.7.13"
  }
 },
 "nbformat": 4,
 "nbformat_minor": 2
}
